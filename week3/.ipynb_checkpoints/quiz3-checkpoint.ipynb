{
 "cells": [
  {
   "cell_type": "markdown",
   "metadata": {},
   "source": [
    "### 1. Отметьте все исключения стандартной библиотеки Python\n",
    "* **ValueError**\n",
    "* RequestException\n",
    "* **KeyboardInterrupt**\n",
    "* **IndexError**"
   ]
  },
  {
   "cell_type": "markdown",
   "metadata": {},
   "source": [
    "### 2. Какие из методов генерации исключения разрешены в Python?\n",
    "* raise None\n",
    "* **raise ValueError**\n",
    "* raise \"ValueError\"\n",
    "* **raise ValueError(\"error\")**"
   ]
  },
  {
   "cell_type": "markdown",
   "metadata": {},
   "source": [
    "### 3. Обращение к несуществующему атрибуту экземпляра\n",
    "* сгенерирует исключение KeyError\n",
    "* **сгенерирует исключение AttributeError**\n",
    "* вернет False\n",
    "* вернет None"
   ]
  },
  {
   "cell_type": "markdown",
   "metadata": {},
   "source": [
    "### 4. Отметьте верные утверждения про classmethod\n",
    "* Метод не принимает дополнительных аргументов кроме указанных программистом\n",
    "* **Метод первым аргументом принимает класс**\n",
    "* **К этому методу можно обращаться от экземпляра класса**\n",
    "* Метод первым аргументом принимает ссылку на экземпляр класса\n",
    "* **К этому методу можно обращаться от имени класса**"
   ]
  },
  {
   "cell_type": "code",
   "execution_count": 1,
   "metadata": {},
   "outputs": [
    {
     "name": "stdout",
     "output_type": "stream",
     "text": [
      "5\n",
      "6\n"
     ]
    }
   ],
   "source": [
    "class Tmp:\n",
    "    @classmethod\n",
    "    def foo(cls, val):\n",
    "        print(val)\n",
    "\n",
    "tmp = Tmp()\n",
    "Tmp.foo(5)\n",
    "tmp.foo(6)"
   ]
  },
  {
   "cell_type": "markdown",
   "metadata": {},
   "source": [
    "### 5. Отметьте верные утверждения про staticmethod\n",
    "* **К этому методу можно обращаться от экземпляра класса**\n",
    "* Метод первым аргументом принимает ссылку на экземпляр класса\n",
    "* Метод первым аргументом принимает класс\n",
    "* **Метод не принимает дополнительных аргументов кроме указанных программистом**\n",
    "* **К этому методу можно обращаться от имени класса**"
   ]
  },
  {
   "cell_type": "code",
   "execution_count": 2,
   "metadata": {},
   "outputs": [
    {
     "name": "stdout",
     "output_type": "stream",
     "text": [
      "5\n",
      "6\n"
     ]
    }
   ],
   "source": [
    "class Tmp:\n",
    "    @staticmethod\n",
    "    def foo(val):\n",
    "        print(val)\n",
    "        \n",
    "tmp = Tmp()\n",
    "Tmp.foo(5)\n",
    "tmp.foo(6)"
   ]
  },
  {
   "cell_type": "markdown",
   "metadata": {},
   "source": [
    "### 6. Для чего используются @property?\n",
    "* Чтобы делать методы приватными\n",
    "* Чтобы делать атрибуты приватными\n",
    "* **Чтобы создать вычисляемый атрибут**"
   ]
  },
  {
   "cell_type": "code",
   "execution_count": 3,
   "metadata": {},
   "outputs": [
    {
     "name": "stdout",
     "output_type": "stream",
     "text": [
      "Setting value\n"
     ]
    },
    {
     "ename": "ValueError",
     "evalue": "Temperature below -273 is not possible",
     "output_type": "error",
     "traceback": [
      "\u001b[1;31m---------------------------------------------------------------------------\u001b[0m",
      "\u001b[1;31mValueError\u001b[0m                                Traceback (most recent call last)",
      "\u001b[1;32m<ipython-input-3-54ed6c4daa8f>\u001b[0m in \u001b[0;36m<module>\u001b[1;34m()\u001b[0m\n\u001b[0;32m     19\u001b[0m \u001b[1;33m\u001b[0m\u001b[0m\n\u001b[0;32m     20\u001b[0m \u001b[0mcelsius\u001b[0m \u001b[1;33m=\u001b[0m \u001b[0mCelsius\u001b[0m\u001b[1;33m(\u001b[0m\u001b[1;33m)\u001b[0m\u001b[1;33m\u001b[0m\u001b[0m\n\u001b[1;32m---> 21\u001b[1;33m \u001b[0mcelsius\u001b[0m\u001b[1;33m.\u001b[0m\u001b[0mtemperature\u001b[0m \u001b[1;33m=\u001b[0m \u001b[1;33m-\u001b[0m\u001b[1;36m280\u001b[0m\u001b[1;33m;\u001b[0m\u001b[1;33m\u001b[0m\u001b[0m\n\u001b[0m",
      "\u001b[1;32m<ipython-input-3-54ed6c4daa8f>\u001b[0m in \u001b[0;36mset_temperature\u001b[1;34m(self, value)\u001b[0m\n\u001b[0;32m     12\u001b[0m     \u001b[1;32mdef\u001b[0m \u001b[0mset_temperature\u001b[0m\u001b[1;33m(\u001b[0m\u001b[0mself\u001b[0m\u001b[1;33m,\u001b[0m \u001b[0mvalue\u001b[0m\u001b[1;33m)\u001b[0m\u001b[1;33m:\u001b[0m\u001b[1;33m\u001b[0m\u001b[0m\n\u001b[0;32m     13\u001b[0m         \u001b[1;32mif\u001b[0m \u001b[0mvalue\u001b[0m \u001b[1;33m<\u001b[0m \u001b[1;33m-\u001b[0m\u001b[1;36m273\u001b[0m\u001b[1;33m:\u001b[0m\u001b[1;33m\u001b[0m\u001b[0m\n\u001b[1;32m---> 14\u001b[1;33m             \u001b[1;32mraise\u001b[0m \u001b[0mValueError\u001b[0m\u001b[1;33m(\u001b[0m\u001b[1;34m\"Temperature below -273 is not possible\"\u001b[0m\u001b[1;33m)\u001b[0m\u001b[1;33m\u001b[0m\u001b[0m\n\u001b[0m\u001b[0;32m     15\u001b[0m         \u001b[0mprint\u001b[0m\u001b[1;33m(\u001b[0m\u001b[1;34m\"Setting value\"\u001b[0m\u001b[1;33m)\u001b[0m\u001b[1;33m\u001b[0m\u001b[0m\n\u001b[0;32m     16\u001b[0m         \u001b[0mself\u001b[0m\u001b[1;33m.\u001b[0m\u001b[0m_temperature\u001b[0m \u001b[1;33m=\u001b[0m \u001b[0mvalue\u001b[0m\u001b[1;33m\u001b[0m\u001b[0m\n",
      "\u001b[1;31mValueError\u001b[0m: Temperature below -273 is not possible"
     ]
    }
   ],
   "source": [
    "class Celsius:\n",
    "    def __init__(self, temperature = 0):\n",
    "        self.temperature = temperature\n",
    "\n",
    "    def to_fahrenheit(self):\n",
    "        return (self.temperature * 1.8) + 32\n",
    "\n",
    "    def get_temperature(self):\n",
    "        print(\"Getting value\")\n",
    "        return self._temperature\n",
    "\n",
    "    def set_temperature(self, value):\n",
    "        if value < -273:\n",
    "            raise ValueError(\"Temperature below -273 is not possible\")\n",
    "        print(\"Setting value\")\n",
    "        self._temperature = value\n",
    "\n",
    "    temperature = property(get_temperature,set_temperature)\n",
    "    \n",
    "celsius = Celsius()\n",
    "celsius.temperature = -280;"
   ]
  },
  {
   "cell_type": "markdown",
   "metadata": {},
   "source": [
    "### 7. Если имя метода в классе начинается с символа нижнего подчеркивания, например: _get_name\n",
    "* если вызвать метод у экземпляра класса, то сгенерируется исключение AttributeError\n",
    "* **обращаться к методу объекта не рекомендуется, так как метод не считается публичным API класса**\n",
    "* символ нижнего подчеркивания в начале метода не добавляет никакого дополнительного значения"
   ]
  },
  {
   "cell_type": "markdown",
   "metadata": {},
   "source": [
    "### 8. Можно ли использовать экземпляры классов в качестве ключей словаря (dict)?\n",
    "* **Да**\n",
    "* Нет"
   ]
  },
  {
   "cell_type": "code",
   "execution_count": 4,
   "metadata": {},
   "outputs": [
    {
     "name": "stdout",
     "output_type": "stream",
     "text": [
      "7\n"
     ]
    }
   ],
   "source": [
    "class Tmp:\n",
    "    def __init__(self, val):\n",
    "        self.val = val\n",
    "        \n",
    "a = Tmp(5)\n",
    "b = Tmp(6)\n",
    "\n",
    "d = dict()\n",
    "d[a] = 7\n",
    "d[b] = 8\n",
    "print(d[a])"
   ]
  },
  {
   "cell_type": "markdown",
   "metadata": {},
   "source": [
    "### 9. Можно ли передавать экземпляр класса как аргумент в функцию?\n",
    "* **Да**\n",
    "* Нет"
   ]
  },
  {
   "cell_type": "markdown",
   "metadata": {},
   "source": [
    "### 10. Предположим есть базовый класс питомец - Pet и класс наследник - Cat. Отметьте варианты, которые вернут True\n",
    "* **isinstance(Cat(), Cat)**\n",
    "* **isinstance(Cat(), Pet)**\n",
    "* issubclass(Pet, Cat)\n",
    "* **issubclass(Cat, object)**\n",
    "* **issubclass(Cat, Pet)**"
   ]
  },
  {
   "cell_type": "code",
   "execution_count": 5,
   "metadata": {},
   "outputs": [
    {
     "name": "stdout",
     "output_type": "stream",
     "text": [
      "True\n",
      "True\n",
      "False\n",
      "True\n",
      "True\n"
     ]
    }
   ],
   "source": [
    "class Pet:\n",
    "    def __init__(self, name):\n",
    "        self.name = name\n",
    "        \n",
    "class Cat(Pet):\n",
    "    def __init__(self, name, breed=None):\n",
    "        super().__init__(name)\n",
    "        self.__breed = breed\n",
    "    def say(self):\n",
    "        return '{0}: meow!'.format(self.name)\n",
    "    def get_breed(self):\n",
    "        return self.__breed\n",
    "    \n",
    "print(isinstance(Cat('Buddy'), Cat))\n",
    "print(isinstance(Cat('Buddy'), Pet))\n",
    "print(issubclass(Pet, Cat))\n",
    "print(issubclass(Cat, object))\n",
    "print(issubclass(Cat, Pet))"
   ]
  },
  {
   "cell_type": "code",
   "execution_count": null,
   "metadata": {
    "collapsed": true
   },
   "outputs": [],
   "source": []
  }
 ],
 "metadata": {
  "kernelspec": {
   "display_name": "Python 3",
   "language": "python",
   "name": "python3"
  },
  "language_info": {
   "codemirror_mode": {
    "name": "ipython",
    "version": 3
   },
   "file_extension": ".py",
   "mimetype": "text/x-python",
   "name": "python",
   "nbconvert_exporter": "python",
   "pygments_lexer": "ipython3",
   "version": "3.6.1"
  }
 },
 "nbformat": 4,
 "nbformat_minor": 2
}
