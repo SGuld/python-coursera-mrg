{
 "cells": [
  {
   "cell_type": "code",
   "execution_count": 1,
   "metadata": {
    "collapsed": true
   },
   "outputs": [],
   "source": [
    "class Pet:\n",
    "    def __init__(self, name):\n",
    "        self.name = name\n",
    "        \n",
    "class Dog(Pet):\n",
    "    def __init__(self, name, breed=None):\n",
    "        super().__init__(name)\n",
    "        self.__breed = breed\n",
    "    def say(self):\n",
    "        return '{0}: waw!'.format(self.name)\n",
    "    def get_breed(self):\n",
    "        return self.__breed\n",
    "    \n",
    "class ExportJSON:\n",
    "    def to_json(self):\n",
    "        pass\n",
    "    \n",
    "class ExDog(Dog, ExportJSON):\n",
    "    def get_breed(self):\n",
    "        return 'breed {0} {1}'.format(self.name, self.__breed)"
   ]
  },
  {
   "cell_type": "markdown",
   "metadata": {},
   "source": [
    "### 1. Наследование классов нужно:\n",
    "\n",
    "* для создания экземпляров класса\n",
    "* для ограничения доступа к атрибутам класса предка\n",
    "* **для изменения поведения класса**\n",
    "* **для расширения функционала класса**"
   ]
  },
  {
   "cell_type": "markdown",
   "metadata": {},
   "source": [
    "### 2. Выберите истинные утверждения\n",
    "\n",
    "* **Для вызова нужного метода используется линеаризация класса**\n",
    "* **В Python разрешено множественное наследование**\n",
    "* **Классы-примеси используются в множественном наследовании**\n",
    "* **Все классы в python унаследованы от класса object**"
   ]
  },
  {
   "cell_type": "code",
   "execution_count": 2,
   "metadata": {},
   "outputs": [
    {
     "data": {
      "text/plain": [
       "(__main__.ExDog, __main__.Dog, __main__.Pet, __main__.ExportJSON, object)"
      ]
     },
     "execution_count": 2,
     "metadata": {},
     "output_type": "execute_result"
    }
   ],
   "source": [
    "ExDog.__mro__"
   ]
  },
  {
   "cell_type": "markdown",
   "metadata": {},
   "source": [
    "### 3. Предположим есть базовый класс питомец - Pet и класс наследник - Dog. Отметьте все варианты вызова метода Pet.__init__ из инициализатора класса потомка.\n",
    "\n",
    "* super(Pet, self).\\__init__()\n",
    "* **super().\\__init__()**\n",
    "* **super(Dog, self).\\__init__()**"
   ]
  },
  {
   "cell_type": "code",
   "execution_count": 3,
   "metadata": {
    "collapsed": true
   },
   "outputs": [],
   "source": [
    "class SuperPet:\n",
    "    def __init__(self):\n",
    "        print('SuperPet')\n",
    "        \n",
    "class SuperDog1(SuperPet):\n",
    "    def __init__(self):\n",
    "        super(SuperPet, self).__init__()\n",
    "        print('SuperDog1')\n",
    "        \n",
    "class SuperDog2(SuperPet):\n",
    "    def __init__(self):\n",
    "        super().__init__()\n",
    "        print('SuperDog2')\n",
    "        \n",
    "class SuperDog3(SuperPet):\n",
    "    def __init__(self):\n",
    "        super(SuperDog3, self).__init__()\n",
    "        print('SuperDog3')"
   ]
  },
  {
   "cell_type": "code",
   "execution_count": 4,
   "metadata": {},
   "outputs": [
    {
     "name": "stdout",
     "output_type": "stream",
     "text": [
      "SuperDog1\n"
     ]
    }
   ],
   "source": [
    "dog1 = SuperDog1()"
   ]
  },
  {
   "cell_type": "code",
   "execution_count": 5,
   "metadata": {},
   "outputs": [
    {
     "name": "stdout",
     "output_type": "stream",
     "text": [
      "SuperPet\n",
      "SuperDog2\n"
     ]
    }
   ],
   "source": [
    "dog2 = SuperDog2()"
   ]
  },
  {
   "cell_type": "code",
   "execution_count": 6,
   "metadata": {},
   "outputs": [
    {
     "name": "stdout",
     "output_type": "stream",
     "text": [
      "SuperPet\n",
      "SuperDog3\n"
     ]
    }
   ],
   "source": [
    "dog3 = SuperDog3()"
   ]
  },
  {
   "cell_type": "markdown",
   "metadata": {},
   "source": [
    "### 4. Предположим есть базовый класс питомец - Pet и класс наследник - Dog. Отметьте варианты, которые вернут True\n",
    "\n",
    "* issubclass(Pet, Dog)\n",
    "* **issubclass(Dog, Pet)**\n",
    "* **issubclass(Dog, object)**\n",
    "* **issubclass(Pet, object)**"
   ]
  },
  {
   "cell_type": "code",
   "execution_count": 7,
   "metadata": {},
   "outputs": [
    {
     "name": "stdout",
     "output_type": "stream",
     "text": [
      "False\n",
      "True\n",
      "True\n",
      "True\n"
     ]
    }
   ],
   "source": [
    "print(issubclass(Pet, Dog))\n",
    "print(issubclass(Dog, Pet))\n",
    "print(issubclass(Dog, object))\n",
    "print(issubclass(Pet, object))"
   ]
  },
  {
   "cell_type": "markdown",
   "metadata": {},
   "source": [
    "### 5. Предположим есть базовый класс питомец - Pet и класс наследник - Dog. Отметьте варианты, которые вернут True\n",
    "\n",
    "* isinstance(Pet(), Dog)\n",
    "* **isinstance(Dog(), Pet)**\n",
    "* **isinstance(Dog(), Dog)**\n",
    "* isinstance(Dog, Dog)\n",
    "* **isinstance(Pet(), object)**"
   ]
  },
  {
   "cell_type": "code",
   "execution_count": 8,
   "metadata": {},
   "outputs": [
    {
     "name": "stdout",
     "output_type": "stream",
     "text": [
      "False\n",
      "True\n",
      "True\n",
      "False\n",
      "True\n"
     ]
    }
   ],
   "source": [
    "print(isinstance(Pet('Buddy'), Dog))\n",
    "print(isinstance(Dog('Buddy'), Pet))\n",
    "print(isinstance(Dog('Buddy'), Dog))\n",
    "print(isinstance(Dog, Dog))\n",
    "print(isinstance(Pet('Buddy'), object))"
   ]
  },
  {
   "cell_type": "code",
   "execution_count": null,
   "metadata": {
    "collapsed": true
   },
   "outputs": [],
   "source": []
  }
 ],
 "metadata": {
  "kernelspec": {
   "display_name": "Python 3",
   "language": "python",
   "name": "python3"
  },
  "language_info": {
   "codemirror_mode": {
    "name": "ipython",
    "version": 3
   },
   "file_extension": ".py",
   "mimetype": "text/x-python",
   "name": "python",
   "nbconvert_exporter": "python",
   "pygments_lexer": "ipython3",
   "version": "3.6.1"
  }
 },
 "nbformat": 4,
 "nbformat_minor": 2
}
