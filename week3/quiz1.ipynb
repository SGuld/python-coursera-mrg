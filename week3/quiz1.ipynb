{
 "cells": [
  {
   "cell_type": "markdown",
   "metadata": {},
   "source": [
    "### 1. Как узнать тип объекта obj?\n",
    "\n",
    "* **type(obj)**\n",
    "* isinstance(obj)"
   ]
  },
  {
   "cell_type": "markdown",
   "metadata": {},
   "source": [
    "### 2. Отметить что является классом:\n",
    "\n",
    "* \"1024\"\n",
    "* 1024\n",
    "* class\n",
    "* **str**\n",
    "* **int**"
   ]
  },
  {
   "cell_type": "markdown",
   "metadata": {},
   "source": [
    "### 3. Куда записываются атрибуты объекта?\n",
    "\n",
    "* obj.\\__doc__\n",
    "* obj.\\__attrt__\n",
    "* obj.\\__class__\n",
    "* **obj.\\__dict__**"
   ]
  },
  {
   "cell_type": "markdown",
   "metadata": {},
   "source": [
    "### 4. Когда вызывается метод __init__?\n",
    "\n",
    "* При объявлении класса\n",
    "* При обращении к методу экземпляра\n",
    "* **При создании экземпляра**"
   ]
  },
  {
   "cell_type": "markdown",
   "metadata": {},
   "source": [
    "### 5. Экземпляры классов хешируются?\n",
    "\n",
    "* Нет\n",
    "* **Да**"
   ]
  },
  {
   "cell_type": "markdown",
   "metadata": {},
   "source": [
    "### 6. Отметьте верные утверждения про classmethod\n",
    "\n",
    "* **К этому методу можно обращаться от имени класса**\n",
    "* ** Метод первым аргументом принимает класс**\n",
    "* **К этому методу можно обращаться от экземпляра класса**\n",
    "* Метод первым аргументом принимает ссылку на экземпляр класса\n",
    "* Метод не принимает дополнительных аргументов кроме указанных программистом"
   ]
  },
  {
   "cell_type": "markdown",
   "metadata": {},
   "source": [
    "### 7. Отметьте верные утверждения про staticmethod\n",
    "\n",
    "* Метод первым аргументом принимает класс\n",
    "* **К этому методу можно обращаться от имени класса**\n",
    "* **Метод не принимает дополнительных аргументов кроме указанных программистом**\n",
    "* **К этому методу можно обращаться от экземпляра класса**\n",
    "* Метод первым аргументом принимает ссылку на экземпляр класса"
   ]
  },
  {
   "cell_type": "markdown",
   "metadata": {},
   "source": [
    "### 8. Для чего используются @property?\n",
    "\n",
    "* Чтобы делать атрибуты приватными\n",
    "* **Чтобы создать вычисляемый атрибут**"
   ]
  },
  {
   "cell_type": "code",
   "execution_count": null,
   "metadata": {
    "collapsed": true
   },
   "outputs": [],
   "source": []
  }
 ],
 "metadata": {
  "kernelspec": {
   "display_name": "Python 3",
   "language": "python",
   "name": "python3"
  },
  "language_info": {
   "codemirror_mode": {
    "name": "ipython",
    "version": 3
   },
   "file_extension": ".py",
   "mimetype": "text/x-python",
   "name": "python",
   "nbconvert_exporter": "python",
   "pygments_lexer": "ipython3",
   "version": "3.6.1"
  }
 },
 "nbformat": 4,
 "nbformat_minor": 2
}
