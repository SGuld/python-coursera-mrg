{
 "cells": [
  {
   "cell_type": "markdown",
   "metadata": {},
   "source": [
    "### 1. Можно ли использовать изменяемые объекты в качестве значений по умолчанию в функциях?\n",
    "\n",
    "* **Да, но это может привести к неочевидным ошибкам**\n",
    "* Нет, случится синтаксическая ошибка"
   ]
  },
  {
   "cell_type": "markdown",
   "metadata": {},
   "source": [
    "### 2. Выберите верные утверждения про кортежи:\n",
    "\n",
    "* кортежи изменяемые\n",
    "* проверка на вхождение элемента в кортеж происходит за константное время\n",
    "* **кортежи могут содержать элементы различных типов**\n",
    "* **кортежи неизменяемые**\n",
    "* **проверка на вхождение элемента в кортеж происходит за линейное время**"
   ]
  },
  {
   "cell_type": "markdown",
   "metadata": {},
   "source": [
    "### 3. Какой записи эквивалентно применение декоратора?\n",
    "    @login_required\n",
    "    def send_feedback(request)\n",
    "\n",
    "* login_required = send_feedback(login_required)\n",
    "* def login_required(send_feedback)(request)\n",
    "* **send_feedback = login_required(send_feedback)**\n",
    "* def login_required(send_feedback)"
   ]
  },
  {
   "cell_type": "markdown",
   "metadata": {},
   "source": [
    "### 4. Для чего используются декораторы?\n",
    "\n",
    "* Для эффективного использования памяти при итерации\n",
    "* **Для модификации поведения функций**\n",
    "* Чтобы иметь возможность импортировать функцию в другой модуль"
   ]
  },
  {
   "cell_type": "markdown",
   "metadata": {},
   "source": [
    "### 5. Выберите верные утверждения про множества:\n",
    "\n",
    "* проверка на вхождение элемента в множество происходит за линейное время\n",
    "* **проверка на вхождение элемента в множество происходит за константное время**\n",
    "* **множества изменяемые**\n",
    "* множества неизменяемые"
   ]
  },
  {
   "cell_type": "markdown",
   "metadata": {},
   "source": [
    "### 6. Что происходит при итерации по генератору?\n",
    "\n",
    "* **Каждую итерацию вызывается функция next, и исполнение генератора возобновляется с момента после yield**\n",
    "* Каждую итерацию вызывается функция next, и генератор исполняется с начала\n",
    "* Итерация происходит по списку значений, который вернул генератор при вызове"
   ]
  },
  {
   "cell_type": "code",
   "execution_count": null,
   "metadata": {
    "collapsed": true
   },
   "outputs": [],
   "source": []
  }
 ],
 "metadata": {
  "kernelspec": {
   "display_name": "Python 3",
   "language": "python",
   "name": "python3"
  },
  "language_info": {
   "codemirror_mode": {
    "name": "ipython",
    "version": 3
   },
   "file_extension": ".py",
   "mimetype": "text/x-python",
   "name": "python",
   "nbconvert_exporter": "python",
   "pygments_lexer": "ipython3",
   "version": "3.6.1"
  }
 },
 "nbformat": 4,
 "nbformat_minor": 2
}
