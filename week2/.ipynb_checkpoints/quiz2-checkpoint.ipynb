{
 "cells": [
  {
   "cell_type": "markdown",
   "metadata": {},
   "source": [
    "### 1. Что по умолчанию возвращает функция, где не определен return?\n",
    "\n",
    "* 1\n",
    "* **None**\n",
    "* В каждой функции необходимо использовать оператор return\n",
    "* 0"
   ]
  },
  {
   "cell_type": "markdown",
   "metadata": {},
   "source": [
    "### 2. Как оформляется тело функции в Python?\n",
    "\n",
    "* Операторами BEGIN-END\n",
    "* Фигурными скобками\n",
    "* **Отступом**\n",
    "* Квадратными скобками"
   ]
  },
  {
   "cell_type": "code",
   "execution_count": 1,
   "metadata": {
    "collapsed": true
   },
   "outputs": [],
   "source": [
    "def foo(*args, **kwargs): pass"
   ]
  },
  {
   "cell_type": "markdown",
   "metadata": {},
   "source": [
    "### 3. Что произойдет при вызове функции foo?\n",
    "\n",
    "* **Все именованные аргументы запишутся в словарь kwargs**\n",
    "* **Все позиционные аргументы запишутся в кортеж args**\n",
    "* Все именованные аргументы запишутся в кортеж kwargs\n",
    "* Синтаксическая ошибка"
   ]
  },
  {
   "cell_type": "markdown",
   "metadata": {},
   "source": [
    "### 4. В каком случае можно вызвать функцию без параметров?\n",
    "\n",
    "* **Если используются *args, &ast;&ast;kwargs**\n",
    "* У каждой функции должны быть параметры, в этом суть функций\n",
    "* **Если у всех аргументов есть значения по умолчанию**\n",
    "* **Если она не ожидает аргументов**"
   ]
  },
  {
   "cell_type": "code",
   "execution_count": null,
   "metadata": {
    "collapsed": true
   },
   "outputs": [],
   "source": []
  }
 ],
 "metadata": {
  "kernelspec": {
   "display_name": "Python 3",
   "language": "python",
   "name": "python3"
  },
  "language_info": {
   "codemirror_mode": {
    "name": "ipython",
    "version": 3
   },
   "file_extension": ".py",
   "mimetype": "text/x-python",
   "name": "python",
   "nbconvert_exporter": "python",
   "pygments_lexer": "ipython3",
   "version": "3.6.1"
  }
 },
 "nbformat": 4,
 "nbformat_minor": 2
}
