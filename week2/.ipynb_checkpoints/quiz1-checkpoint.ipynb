{
 "cells": [
  {
   "cell_type": "markdown",
   "metadata": {},
   "source": [
    "### 1. Выберите верные утверждения про списки:\n",
    "* **списки изменяемые**\n",
    "* проверка на вхождение элемента в список происходит за константное время\n",
    "* **проверка на вхождение элемента в список происходит за линейное время**\n",
    "* списки неизменяемые\n",
    "* **списки могут содержать элементы различных типов**"
   ]
  },
  {
   "cell_type": "markdown",
   "metadata": {},
   "source": [
    "### 2. К чему приведет обращение к непустому списку по индексу «-1»?\n",
    "\n",
    "* **Вернется последний элемент**\n",
    "* Ошибка KeyError\n",
    "* Ошибка IndexError\n",
    "* Вернется первый элемент"
   ]
  },
  {
   "cell_type": "markdown",
   "metadata": {},
   "source": [
    "### 3. Выберите верные утверждения про словари:\n",
    "\n",
    "* **поиск ключа в словаре происходит за константное время**\n",
    "* словари неизменяемые\n",
    "* **словари изменяемые**\n",
    "* поиск ключа в словаре происходит за линейное время"
   ]
  },
  {
   "cell_type": "markdown",
   "metadata": {},
   "source": [
    "### 4. Можно ли изменять список, находящийся внутри кортежа?\n",
    "\n",
    "* **Да**\n",
    "* Нет"
   ]
  },
  {
   "cell_type": "markdown",
   "metadata": {},
   "source": [
    "### 5. В чем отличие стандартного метода списка sort и встроенное функции sorted?\n",
    "\n",
    "* Функции sorted не существует\n",
    "* **Sort сортирует исходный список, а sorted возвращает новый**\n",
    "* Отличий нет\n",
    "* Sorted сортирует исходный список, а sort возвращает новый"
   ]
  },
  {
   "cell_type": "code",
   "execution_count": null,
   "metadata": {
    "collapsed": true
   },
   "outputs": [],
   "source": []
  }
 ],
 "metadata": {
  "kernelspec": {
   "display_name": "Python 3",
   "language": "python",
   "name": "python3"
  },
  "language_info": {
   "codemirror_mode": {
    "name": "ipython",
    "version": 3
   },
   "file_extension": ".py",
   "mimetype": "text/x-python",
   "name": "python",
   "nbconvert_exporter": "python",
   "pygments_lexer": "ipython3",
   "version": "3.6.1"
  }
 },
 "nbformat": 4,
 "nbformat_minor": 2
}
