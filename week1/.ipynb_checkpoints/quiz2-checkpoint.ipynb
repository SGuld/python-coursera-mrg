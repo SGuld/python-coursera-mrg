{
 "cells": [
  {
   "cell_type": "markdown",
   "metadata": {},
   "source": [
    "### 1. Совместимы ли Python 2 и Python 3?\n",
    "* совместимы\n",
    "* **несовместимы**"
   ]
  },
  {
   "cell_type": "markdown",
   "metadata": {},
   "source": [
    "### 2. На каком языке программирования написана основная реализация спецификации Python?\n",
    "* Python\n",
    "* Java\n",
    "* **C**"
   ]
  },
  {
   "cell_type": "markdown",
   "metadata": {},
   "source": [
    "### 3. Какое расширение обычно дают файлам с кодом на Python?\n",
    "* .pyc\n",
    "* **.py**\n",
    "* .python"
   ]
  },
  {
   "cell_type": "markdown",
   "metadata": {},
   "source": [
    "### 4. Как пишутся комментарии в Python?"
   ]
  },
  {
   "cell_type": "code",
   "execution_count": 1,
   "metadata": {
    "collapsed": true
   },
   "outputs": [],
   "source": [
    "# это комментарий"
   ]
  },
  {
   "cell_type": "markdown",
   "metadata": {},
   "source": [
    "### 5. Какие имена переменных правильные?"
   ]
  },
  {
   "cell_type": "code",
   "execution_count": 2,
   "metadata": {},
   "outputs": [],
   "source": [
    "_name = True\n",
    "name = True"
   ]
  },
  {
   "cell_type": "markdown",
   "metadata": {},
   "source": [
    "### 6. bool(0.000001) - True или False?"
   ]
  },
  {
   "cell_type": "code",
   "execution_count": 3,
   "metadata": {},
   "outputs": [
    {
     "data": {
      "text/plain": [
       "True"
      ]
     },
     "execution_count": 3,
     "metadata": {},
     "output_type": "execute_result"
    }
   ],
   "source": [
    "bool(0.000001)"
   ]
  },
  {
   "cell_type": "markdown",
   "metadata": {},
   "source": [
    "### 7. Что получится в результате выполнения среза [0:1] для строки \"hello\""
   ]
  },
  {
   "cell_type": "code",
   "execution_count": 4,
   "metadata": {},
   "outputs": [
    {
     "name": "stdout",
     "output_type": "stream",
     "text": [
      "h\n"
     ]
    }
   ],
   "source": [
    "print(\"hello\"[0:1])"
   ]
  },
  {
   "cell_type": "markdown",
   "metadata": {},
   "source": [
    "### 8. Какая функция позволяет считать ввод пользователя из терминала?\n",
    "* **input()**\n",
    "* enter()\n",
    "* read()\n",
    "* readline()"
   ]
  },
  {
   "cell_type": "markdown",
   "metadata": {},
   "source": [
    "### 9. Какой метод превратит байтовую строку в строку?\n",
    "* .encode()\n",
    "* **.decode()**"
   ]
  },
  {
   "cell_type": "markdown",
   "metadata": {},
   "source": [
    "### 10. Чему будет равен pi_fmt?"
   ]
  },
  {
   "cell_type": "code",
   "execution_count": 5,
   "metadata": {},
   "outputs": [
    {
     "ename": "SyntaxError",
     "evalue": "invalid syntax (<ipython-input-5-920572143baa>, line 2)",
     "output_type": "error",
     "traceback": [
      "\u001b[1;36m  File \u001b[1;32m\"<ipython-input-5-920572143baa>\"\u001b[1;36m, line \u001b[1;32m2\u001b[0m\n\u001b[1;33m    pi_fmt = f\"{pi:#0.2f}\"\u001b[0m\n\u001b[1;37m                         ^\u001b[0m\n\u001b[1;31mSyntaxError\u001b[0m\u001b[1;31m:\u001b[0m invalid syntax\n"
     ]
    }
   ],
   "source": [
    "pi = 3.1415926\n",
    "# pi_fmt = f\"{pi:#0.2f}\" # python 3\n",
    "# print(pi_fmt)"
   ]
  },
  {
   "cell_type": "markdown",
   "metadata": {},
   "source": [
    "### 11. Предположим, есть пакет foo, в котором находится модуль bar.py, внутри bar.py определена функция с именем run. Какая конструкция импорта является правильной?\n",
    "\n",
    "* import run from foo.bar\n",
    "* **from foo.bar import run**\n",
    "* import foo.bar.run"
   ]
  },
  {
   "cell_type": "markdown",
   "metadata": {},
   "source": [
    "### 12. Сколько раз напечатаются идиомы Python?"
   ]
  },
  {
   "cell_type": "code",
   "execution_count": null,
   "metadata": {},
   "outputs": [],
   "source": [
    "import this\n",
    "import this"
   ]
  },
  {
   "cell_type": "markdown",
   "metadata": {},
   "source": [
    "### 13. Зачем нужен virtualenv (виртуальное окружение)?\n",
    "\n",
    "* Возможность увеличить скорость запуска скомпилированных в байткод Python-программ\n",
    "* **Изоляция зависимостей**\n",
    "* Возможность запускать несколько интерпретаторов Python одновременно"
   ]
  },
  {
   "cell_type": "markdown",
   "metadata": {},
   "source": [
    "### 14. Какая утилита позволяет ставить внешние Python пакеты в систему?\n",
    "\n",
    "* pyp\n",
    "* **pip**\n",
    "* pep"
   ]
  },
  {
   "cell_type": "markdown",
   "metadata": {},
   "source": [
    "### 15. Что содержат файлы с расширением .pyc?\n",
    "\n",
    "* **Код на Python, cкомпилированный в байткод**\n",
    "* Код на Python, cкомпилированный в машинный код"
   ]
  },
  {
   "cell_type": "code",
   "execution_count": null,
   "metadata": {
    "collapsed": true
   },
   "outputs": [],
   "source": []
  }
 ],
 "metadata": {
  "kernelspec": {
   "display_name": "Python 2",
   "language": "python",
   "name": "python2"
  }
 },
 "nbformat": 4,
 "nbformat_minor": 2
}
