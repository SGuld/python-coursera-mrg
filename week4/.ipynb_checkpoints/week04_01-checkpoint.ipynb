{
 "cells": [
  {
   "cell_type": "code",
   "execution_count": 13,
   "metadata": {
    "collapsed": true
   },
   "outputs": [],
   "source": [
    "import os.path\n",
    "import tempfile\n",
    "\n",
    "class File:\n",
    "    def __init__(self, path):\n",
    "        self._path = path\n",
    "        \n",
    "    def __add__(self, other):\n",
    "        obj = File(os.path.join(tempfile.gettempdir(), \"tmp.txt\"))\n",
    "        obj.write(self.read() + other.read())\n",
    "        return obj\n",
    "    \n",
    "    def __iter__(self):\n",
    "        self._curr = 0\n",
    "        with open(self._path, \"r\") as f:\n",
    "            self._lines = f.readlines()\n",
    "        return self\n",
    "    \n",
    "    def __next__(self):\n",
    "        try:\n",
    "            line = self._lines[self._curr]\n",
    "            self._curr += 1\n",
    "            return line\n",
    "        except IndexError:\n",
    "            raise StopIteration\n",
    "    \n",
    "    def __str__(self):\n",
    "        return self._path\n",
    "        \n",
    "    def read(self):\n",
    "        with open(self._path, \"r\") as f:\n",
    "            return f.read()\n",
    "        \n",
    "    def write(self, data):\n",
    "        with open(self._path, \"w\") as f:\n",
    "            f.write(data)\n"
   ]
  },
  {
   "cell_type": "code",
   "execution_count": 14,
   "metadata": {},
   "outputs": [
    {
     "name": "stdout",
     "output_type": "stream",
     "text": [
      "Hello, I am the first file.\n",
      "I have only two lines.\n",
      "Hi, I'm the 2nd file!\n",
      "I have a lot of lines.\n",
      "It's my 3rd line.\n",
      "It's my 4th line.\n",
      "The end!\n",
      "\n"
     ]
    }
   ],
   "source": [
    "first = File('first.txt')\n",
    "second = File('second.txt')\n",
    "\n",
    "new_obj = first + second\n",
    "print(new_obj.read())"
   ]
  },
  {
   "cell_type": "code",
   "execution_count": 15,
   "metadata": {},
   "outputs": [
    {
     "name": "stdout",
     "output_type": "stream",
     "text": [
      "1 Hi, I'm the 2nd file!\n",
      "\n",
      "2 I have a lot of lines.\n",
      "\n",
      "3 It's my 3rd line.\n",
      "\n",
      "4 It's my 4th line.\n",
      "\n",
      "5 The end!\n",
      "\n"
     ]
    }
   ],
   "source": [
    "count = 1\n",
    "for line in File('second.txt'):\n",
    "    print('{} {}'.format(count, line))\n",
    "    count += 1"
   ]
  },
  {
   "cell_type": "code",
   "execution_count": 16,
   "metadata": {},
   "outputs": [
    {
     "name": "stdout",
     "output_type": "stream",
     "text": [
      "C:\\cygwin64\\tmp\\tmp.txt\n"
     ]
    }
   ],
   "source": [
    "print(new_obj)"
   ]
  },
  {
   "cell_type": "code",
   "execution_count": null,
   "metadata": {
    "collapsed": true
   },
   "outputs": [],
   "source": []
  }
 ],
 "metadata": {
  "kernelspec": {
   "display_name": "Python 3",
   "language": "python",
   "name": "python3"
  },
  "language_info": {
   "codemirror_mode": {
    "name": "ipython",
    "version": 3
   },
   "file_extension": ".py",
   "mimetype": "text/x-python",
   "name": "python",
   "nbconvert_exporter": "python",
   "pygments_lexer": "ipython3",
   "version": "3.6.1"
  }
 },
 "nbformat": 4,
 "nbformat_minor": 2
}
