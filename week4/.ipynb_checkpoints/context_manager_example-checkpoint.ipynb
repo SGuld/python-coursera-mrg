{
 "cells": [
  {
   "cell_type": "code",
   "execution_count": 1,
   "metadata": {},
   "outputs": [
    {
     "name": "stdout",
     "output_type": "stream",
     "text": [
      "Current: 1.000720500946045\n",
      "Elapsed: 2.0011658668518066\n"
     ]
    }
   ],
   "source": [
    "import time\n",
    "\n",
    "class timer():\n",
    "    def __init__(self):\n",
    "        self.start = time.time()\n",
    "        \n",
    "    def current_time(self):\n",
    "        return time.time() - self.start\n",
    "    \n",
    "    def __enter__(self):\n",
    "        return self\n",
    "    \n",
    "    def __exit__(self, *args):\n",
    "        print('Elapsed: {}'.format(self.current_time()))\n",
    "    \n",
    "    \n",
    "with timer() as t:\n",
    "    time.sleep(1)\n",
    "    print('Current: {}'.format(t.current_time()))\n",
    "    time.sleep(1)"
   ]
  },
  {
   "cell_type": "code",
   "execution_count": null,
   "metadata": {
    "collapsed": true
   },
   "outputs": [],
   "source": []
  }
 ],
 "metadata": {
  "kernelspec": {
   "display_name": "Python 3",
   "language": "python",
   "name": "python3"
  },
  "language_info": {
   "codemirror_mode": {
    "name": "ipython",
    "version": 3
   },
   "file_extension": ".py",
   "mimetype": "text/x-python",
   "name": "python",
   "nbconvert_exporter": "python",
   "pygments_lexer": "ipython3",
   "version": "3.6.1"
  }
 },
 "nbformat": 4,
 "nbformat_minor": 2
}
