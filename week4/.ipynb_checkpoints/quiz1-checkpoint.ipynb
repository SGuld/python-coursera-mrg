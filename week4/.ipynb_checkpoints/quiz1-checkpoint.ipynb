{
 "cells": [
  {
   "cell_type": "markdown",
   "metadata": {},
   "source": [
    "### 1. Какой метод класса возвращает новый созданный объект?\n",
    "* **\\__new\\__**\n",
    "* \\__create\\__\n",
    "* \\__get\\__\n",
    "* \\__init\\__"
   ]
  },
  {
   "cell_type": "markdown",
   "metadata": {},
   "source": [
    "### 2. Какой метод отвечает за происходящее в конце блока контекстного менеджера?\n",
    "* \\__delete\\__\n",
    "* \\__del\\__\n",
    "* \\__end\\__\n",
    "* **\\__exit\\__**"
   ]
  },
  {
   "cell_type": "markdown",
   "metadata": {},
   "source": [
    "### 3. Какой метод отвечает за отображении объекта при вызове функции print?\n",
    "* \\__print\\__\n",
    "* \\__unicode\\__\n",
    "* \\__read\\__\n",
    "* **\\__str\\__**"
   ]
  },
  {
   "cell_type": "markdown",
   "metadata": {},
   "source": [
    "### 4. Какой метод отвечает за обращение к объекту по индексу?\n",
    "* \\__getattribute\\__\n",
    "* \\__getindex\\__\n",
    "* **\\__getitem\\__**\n",
    "* \\__get\\__\n",
    "* \\__getattr\\__"
   ]
  },
  {
   "cell_type": "code",
   "execution_count": null,
   "metadata": {
    "collapsed": true
   },
   "outputs": [],
   "source": []
  }
 ],
 "metadata": {
  "kernelspec": {
   "display_name": "Python 3",
   "language": "python",
   "name": "python3"
  },
  "language_info": {
   "codemirror_mode": {
    "name": "ipython",
    "version": 3
   },
   "file_extension": ".py",
   "mimetype": "text/x-python",
   "name": "python",
   "nbconvert_exporter": "python",
   "pygments_lexer": "ipython3",
   "version": "3.6.1"
  }
 },
 "nbformat": 4,
 "nbformat_minor": 2
}
