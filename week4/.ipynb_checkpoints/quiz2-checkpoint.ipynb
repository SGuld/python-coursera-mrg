{
 "cells": [
  {
   "cell_type": "markdown",
   "metadata": {},
   "source": [
    "### 1. Для чего нужны контекстные менеджеры?\n",
    "* **Они используются для определения логики в начале и конце блока кода**\n",
    "* Они управляют переключением контекста между функциями\n",
    "* Они управляют переключением контекста между модулями"
   ]
  },
  {
   "cell_type": "markdown",
   "metadata": {},
   "source": [
    "### 2. Что такое дескриптор?\n",
    "* **Объект с методами \\__get\\__/\\__set\\__/\\__delete\\__**\n",
    "* Описание класса\n",
    "* Функция с yield\n",
    "* Метод доступа к атрибутам класса"
   ]
  },
  {
   "cell_type": "markdown",
   "metadata": {},
   "source": [
    "### 3. Как закончить исполнение итератора?\n",
    "* **Выбросить исключение StopIteration**\n",
    "* Вызвать метод __exit__\n",
    "* Вернуть None"
   ]
  },
  {
   "cell_type": "markdown",
   "metadata": {},
   "source": [
    "### 4. Для чего нужны метаклассы?\n",
    "* **Для управления процессом создания классов**\n",
    "* Для создания дескрипторов\n",
    "* Для создания метаобъектов"
   ]
  },
  {
   "cell_type": "markdown",
   "metadata": {},
   "source": [
    "### 5. С помощью какого оператора можно получить значение из \\__enter\\__?\n",
    "* from\n",
    "* **as**\n",
    "* to"
   ]
  },
  {
   "cell_type": "markdown",
   "metadata": {},
   "source": [
    "### 6. Метод setUp у наследующегося от TestCase класса\n",
    "* вызывается перед запуском тестового класса\n",
    "* **нужен для подготовки данных перед запуском тестов**\n",
    "* используется для объявления тестовых методов\n",
    "* **вызывается перед запуском каждого тестового метода**"
   ]
  },
  {
   "cell_type": "markdown",
   "metadata": {},
   "source": [
    "### 7. С помощью pdb можно\n",
    "* **выводить значения переменных**\n",
    "* **ставить брейкпоинты**\n",
    "* запускать тесты\n",
    "* **пошагово выполнять программу**"
   ]
  },
  {
   "cell_type": "code",
   "execution_count": null,
   "metadata": {
    "collapsed": true
   },
   "outputs": [],
   "source": []
  }
 ],
 "metadata": {
  "kernelspec": {
   "display_name": "Python 3",
   "language": "python",
   "name": "python3"
  },
  "language_info": {
   "codemirror_mode": {
    "name": "ipython",
    "version": 3
   },
   "file_extension": ".py",
   "mimetype": "text/x-python",
   "name": "python",
   "nbconvert_exporter": "python",
   "pygments_lexer": "ipython3",
   "version": "3.6.1"
  }
 },
 "nbformat": 4,
 "nbformat_minor": 2
}
