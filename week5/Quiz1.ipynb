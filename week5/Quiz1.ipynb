{
 "cells": [
  {
   "cell_type": "markdown",
   "metadata": {},
   "source": [
    "### 1. Все процессы работают в ОС\n",
    "* параллельно, одновременно могут выполняться несколько процессов на одном ядре CPU\n",
    "* **последовательно, ОС занимается переключением контекста**"
   ]
  },
  {
   "cell_type": "markdown",
   "metadata": {},
   "source": [
    "### 2. Предположим вывод команды lsof для процесса с pid 1701:\n",
    "```\n",
    "lsof -p 1701\n",
    "\n",
    "...\n",
    "\n",
    "python3 1701 coursera mem REG 8,1 147688 781852 /lib/i386-linux-gnu/ld-2.23.so\n",
    "\n",
    "python3 1701 coursera 0u CHR 136,9 0t0 12 /dev/pts/9\n",
    "\n",
    "python3 1701 coursera 1w REG 8,1 0 545637 /home/coursera/log.txt\n",
    "\n",
    "python3 1701 coursera 2u CHR 136,9 0t0 12 /dev/pts/9\n",
    "```\n",
    "Стандартный вывод у процесса с pid 1701 – это\n",
    "\n",
    "\n",
    "* отсутствует\n",
    "* область памяти в библиотеке ld-2.23.so\n",
    "* **файл /home/coursera/log.txt**\n",
    "* терминал"
   ]
  },
  {
   "cell_type": "markdown",
   "metadata": {},
   "source": [
    "### 3. Выделить истинные выражения:\n",
    "\n",
    "* **все потоки разделяют память процесса в котором они созданы**\n",
    "* **выполнением Python потоков в Linux занимается операционная система**\n",
    "* у каждого потока есть собственная память\n",
    "* выполнением Python потоков в Linux занимается процесс, в котором они запущены\n",
    "* **потоки в Python выполняются в рамках одного процесса, разделяя GIL**"
   ]
  },
  {
   "cell_type": "markdown",
   "metadata": {},
   "source": [
    "### 4. Какие участки кода в Python могут выполняться без GIL?\n",
    "\n",
    "* Функции, занимающиеся вычислениями на CPU\n",
    "* Функции, выполняющиеся в ThreadPoolExecutor\n",
    "* **Системные вызовы**\n",
    "* **Вызовы сторонних библиотек на языке C**"
   ]
  },
  {
   "cell_type": "markdown",
   "metadata": {},
   "source": [
    "### 5. Что происходит с памятью в дочернем процессе?\n",
    "\n",
    "* Разделяется с родительским процессом\n",
    "* **Копируется из родительского процесса**"
   ]
  },
  {
   "cell_type": "code",
   "execution_count": null,
   "metadata": {
    "collapsed": true
   },
   "outputs": [],
   "source": []
  }
 ],
 "metadata": {
  "kernelspec": {
   "display_name": "Python 3",
   "language": "python",
   "name": "python3"
  },
  "language_info": {
   "codemirror_mode": {
    "name": "ipython",
    "version": 3
   },
   "file_extension": ".py",
   "mimetype": "text/x-python",
   "name": "python",
   "nbconvert_exporter": "python",
   "pygments_lexer": "ipython3",
   "version": "3.6.1"
  }
 },
 "nbformat": 4,
 "nbformat_minor": 2
}
